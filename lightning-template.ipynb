{
 "cells": [
  {
   "cell_type": "markdown",
   "id": "dramatic-transformation",
   "metadata": {},
   "source": [
    "### Environment\n",
    "\n",
    "Pytorch and pytorch-lightning must be installed. Use:\n",
    "\n",
    "```\n",
    "$ conda install pytorch torchvision torchaudio -c pytorch\n",
    "$ conda install -c conda-forge pytorch-lightning\n",
    "```\n"
   ]
  },
  {
   "cell_type": "code",
   "execution_count": 1,
   "id": "former-commander",
   "metadata": {},
   "outputs": [],
   "source": [
    "\n",
    "# Code adapted from https://learnopencv.com/getting-started-with-pytorch-lightning/\n",
    "\n",
    "import torch\n",
    "from torch.nn import functional as F\n",
    "from torch.utils.data import DataLoader, random_split\n",
    "from torchvision.datasets import MNIST\n",
    "from torchvision import transforms\n",
    "import pytorch_lightning as pl\n",
    "import os\n"
   ]
  },
  {
   "cell_type": "markdown",
   "id": "authorized-explanation",
   "metadata": {},
   "source": [
    "### Defining the model object\n",
    "\n",
    "Pytorch-lightning will handle everything we need to do, we just need to define the functions.\n"
   ]
  },
  {
   "cell_type": "code",
   "execution_count": 2,
   "id": "worthy-message",
   "metadata": {},
   "outputs": [],
   "source": [
    "class lightningModel(pl.LightningModule):\n",
    "    \n",
    "    # Model definition - same as standard pytorch\n",
    "    def __init__(self):\n",
    "        super(lightningModel, self).__init__()\n",
    "        self.layer1 = torch.nn.Sequential(\n",
    "            torch.nn.Conv2d(1,28,kernel_size=5),\n",
    "            torch.nn.ReLU(),\n",
    "            torch.nn.MaxPool2d(kernel_size=2))\n",
    "        self.layer2 = torch.nn.Sequential(\n",
    "            torch.nn.Conv2d(28,10,kernel_size=2),\n",
    "            torch.nn.ReLU(),\n",
    "            torch.nn.MaxPool2d(kernel_size=2))\n",
    "        self.dropout1=torch.nn.Dropout(0.25)\n",
    "        self.fc1=torch.nn.Linear(250,18)\n",
    "        self.dropout2=torch.nn.Dropout(0.08)\n",
    "        self.fc2=torch.nn.Linear(18,10)\n",
    "\n",
    " \n",
    "    # One-time operations like downloading data, etc.\n",
    "    def prepare_data(self):\n",
    "        MNIST(os.getcwd(), train=True, download =True)\n",
    "        MNIST(os.getcwd(), train=False, download =True)\n",
    "    \n",
    "    # REQUIRED FUNCTION\n",
    "    # Load and split dataset into train/val/test sets\n",
    "    def train_dataloader(self):\n",
    "        mnist_train=MNIST(os.getcwd(), train=True, download =False,transform=transforms.ToTensor())\n",
    "        self.train_set, self.val_set= random_split(mnist_train,[55000,5000])\n",
    "        return DataLoader(self.train_set,batch_size=128)\n",
    "    \n",
    "    # OPTIONAL FUNCTION\n",
    "    def val_dataloader(self):\n",
    "        return DataLoader(self.val_set, batch_size=128)\n",
    "\n",
    "    # OPTIONAL FUNCTION\n",
    "    def test_dataloader(self):\n",
    "        return DataLoader(MNIST(os.getcwd(), \n",
    "                          train=False,\n",
    "                          download=False,\n",
    "                          transform=transforms.ToTensor()),\n",
    "                          batch_size=128)\n",
    "\n",
    "    # REQUIRED FUNCTION\n",
    "    # Forward pass - same as standard pytorch\n",
    "    def forward(self,x):\n",
    "          x=self.layer1(x)\n",
    "          x=self.layer2(x)\n",
    "          x=self.dropout1(x)\n",
    "          x=torch.relu(self.fc1(x.view(x.size(0), -1)))\n",
    "          x=F.leaky_relu(self.dropout2(x))\n",
    "          \n",
    "          return F.softmax(self.fc2(x), dim=1)\n",
    "\n",
    "    # REQUIRED FUNCTION\n",
    "    def configure_optimizers(self):\n",
    "        return torch.optim.Adam(self.parameters())\n",
    "\n",
    "    # REQUIRED FUNCTION\n",
    "    # This is called for every batch in the training dataset\n",
    "    def training_step(self,batch,batch_idx):\n",
    "          \n",
    "          # Load data, inference step, loss calculation\n",
    "          x,labels=batch\n",
    "          pred=self.forward(x)\n",
    "          loss = F.nll_loss(pred, labels)\n",
    "          \n",
    "          # Must log and return the loss, but many other options are available \n",
    "          logs={\"train_loss\": loss}\n",
    "          \n",
    "          output={\n",
    "              \"loss\": loss,\n",
    "              \"log\": logs\n",
    "          }\n",
    "          \n",
    "          return output\n"
   ]
  },
  {
   "cell_type": "markdown",
   "id": "hollywood-performer",
   "metadata": {},
   "source": [
    "### Using the Lightning Trainer\n",
    "\n",
    "Once the `model` class and all required functions have been implemented, the Lightning trainer takes over execution. \n",
    "\n",
    "The trainer handles just about everything we could want, including:\n",
    "\n",
    "- Ensuring input data type matches model data type\n",
    "- Managing batch ingestion and processing\n",
    "- Calculating loss and calling the optimizer\n",
    "- Iterating over all epochs\n",
    "- Saving, logging and checkpointing the models\n"
   ]
  },
  {
   "cell_type": "code",
   "execution_count": null,
   "id": "initial-release",
   "metadata": {},
   "outputs": [],
   "source": [
    "# Instantiate the trainer, which is highly customizable: https://pytorch-lightning.readthedocs.io/en/latest/trainer.html\n",
    "Trainer=pl.Trainer(max_epochs=2)\n",
    "\n",
    "# Instantiate the model\n",
    "model=lightningModel()\n",
    "\n",
    "# Let pytorch-lighting manage execution\n",
    "Trainer.fit(model)"
   ]
  }
 ],
 "metadata": {
  "kernelspec": {
   "display_name": "Python 3",
   "language": "python",
   "name": "python3"
  },
  "language_info": {
   "codemirror_mode": {
    "name": "ipython",
    "version": 3
   },
   "file_extension": ".py",
   "mimetype": "text/x-python",
   "name": "python",
   "nbconvert_exporter": "python",
   "pygments_lexer": "ipython3",
   "version": "3.8.5"
  }
 },
 "nbformat": 4,
 "nbformat_minor": 5
}
