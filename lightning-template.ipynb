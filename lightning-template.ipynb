{
 "cells": [
  {
   "cell_type": "markdown",
   "id": "downtown-treasurer",
   "metadata": {},
   "source": [
    "### Environment\n",
    "\n",
    "Pytorch and pytorch-lightning must be installed. Use:\n",
    "\n",
    "```\n",
    "$ conda install pytorch torchvision torchaudio -c pytorch\n",
    "$ conda install -c conda-forge pytorch-lightning\n",
    "```\n"
   ]
  },
  {
   "cell_type": "code",
   "execution_count": 1,
   "id": "unlikely-accessory",
   "metadata": {},
   "outputs": [],
   "source": [
    "# Full documentation: https://pytorch-lightning.readthedocs.io/en/latest/\n",
    "# Code adapted from https://learnopencv.com/getting-started-with-pytorch-lightning/\n",
    "# and https://learnopencv.com/tensorboard-with-pytorch-lightning/\n",
    "\n",
    "# Import requirements\n",
    "import torch\n",
    "from torch.nn import functional as F\n",
    "from torch.utils.data import DataLoader, random_split\n",
    "from torchvision.datasets import MNIST\n",
    "from torchvision import transforms\n",
    "import pytorch_lightning as pl\n",
    "from pytorch_lightning.loggers import TensorBoardLogger\n",
    "import os"
   ]
  },
  {
   "cell_type": "markdown",
   "id": "threatened-equivalent",
   "metadata": {},
   "source": [
    "### Defining the model object\n",
    "\n",
    "Pytorch-lightning will handle everything we need to do, we just need to define the functions.\n",
    "\n",
    "Below, we define the following *required* functions just as we would using regular pytorch:\n",
    "\n",
    "- prepare_data(): For one-time operations (downloading mnist)\n",
    "- train_dataloader(): Loading train/validation data into dataloader objects\n",
    "- forward(): Standard forward pass definition\n",
    "- configure_optimizers(): Instantiate optimizer\n",
    "- training_step(): Called on every batch, feeds data through the model\n",
    "\n",
    "And the following optional functions for logging and visualization:\n",
    "\n",
    "- custom_histogram_adder(): Visualize the changes in the weight distributions v epoch\n",
    "- training_epoch_end(): Called after each epoch completes, primarily for logging\n",
    "\n",
    "We get started by inheriting from `pl.LightningModule`:\n",
    "\n"
   ]
  },
  {
   "cell_type": "code",
   "execution_count": 2,
   "id": "incorporated-commission",
   "metadata": {},
   "outputs": [],
   "source": [
    "class lightningModel(pl.LightningModule):\n",
    "    \n",
    "    # Sample model definition - same as standard pytorch\n",
    "    def __init__(self):\n",
    "        super(lightningModel, self).__init__()\n",
    "        self.layer1 = torch.nn.Sequential(\n",
    "            torch.nn.Conv2d(1,28,kernel_size=5),\n",
    "            torch.nn.ReLU(),\n",
    "            torch.nn.MaxPool2d(kernel_size=2))\n",
    "        self.layer2 = torch.nn.Sequential(\n",
    "            torch.nn.Conv2d(28,10,kernel_size=2),\n",
    "            torch.nn.ReLU(),\n",
    "            torch.nn.MaxPool2d(kernel_size=2))\n",
    "        self.dropout1=torch.nn.Dropout(0.25)\n",
    "        self.fc1=torch.nn.Linear(250,18)\n",
    "        self.dropout2=torch.nn.Dropout(0.08)\n",
    "        self.fc2=torch.nn.Linear(18,10)\n",
    "\n",
    " \n",
    "    # One-time operations like downloading data, etc.\n",
    "    def prepare_data(self):\n",
    "        # The following will download raw MNIST data into ./MNIST\n",
    "        MNIST(os.getcwd(), train = True, download = True)\n",
    "        MNIST(os.getcwd(), train = False, download = True)\n",
    "    \n",
    "    # REQUIRED FUNCTION\n",
    "    # Load and split dataset into train/val/test sets\n",
    "    def train_dataloader(self):\n",
    "        mnist_train = MNIST(os.getcwd(), train = True, download = False,transform = transforms.ToTensor())\n",
    "        self.train_set, self.val_set = random_split(mnist_train,[55000,5000])\n",
    "        return DataLoader(self.train_set,batch_size = 128)\n",
    "    \n",
    "    # OPTIONAL FUNCTION\n",
    "    def val_dataloader(self):\n",
    "        return DataLoader(self.val_set, batch_size = 128)\n",
    "\n",
    "    # OPTIONAL FUNCTION\n",
    "    def test_dataloader(self):\n",
    "        return DataLoader(MNIST(os.getcwd(), \n",
    "                          train = False,\n",
    "                          download = False,\n",
    "                          transform = transforms.ToTensor()),\n",
    "                          batch_size = 128)\n",
    "\n",
    "    # REQUIRED FUNCTION\n",
    "    # Forward pass - same as standard pytorch\n",
    "    def forward(self,x):\n",
    "          x = self.layer1(x)\n",
    "          x = self.layer2(x)\n",
    "          x = self.dropout1(x)\n",
    "          x = torch.relu(self.fc1(x.view(x.size(0), -1)))\n",
    "          x = F.leaky_relu(self.dropout2(x))\n",
    "          \n",
    "          return F.softmax(self.fc2(x), dim=1)\n",
    "\n",
    "    # REQUIRED FUNCTION\n",
    "    def configure_optimizers(self):\n",
    "        return torch.optim.Adam(self.parameters())\n",
    "\n",
    "    # REQUIRED FUNCTION\n",
    "    # This is called for every batch in the training dataset\n",
    "    def training_step(self,batch,batch_idx):\n",
    "\n",
    "        # Standard forward pass\n",
    "        x, labels = batch\n",
    "        pred = self.forward(x)\n",
    "        train_loss = F.cross_entropy(pred, labels)\n",
    "        \n",
    "        # identifying number of correct predections in a given batch\n",
    "        correct = pred.argmax(dim = 1).eq(labels).sum().item()\n",
    "\n",
    "        # identifying total number of labels in a given batch\n",
    "        total = len(labels)\n",
    "\n",
    "\n",
    "        \n",
    "        # Log dictionary \n",
    "        logs = {\"train_loss\": train_loss}\n",
    "\n",
    "        batch_dictionary={\n",
    "            #REQUIRED: must at minimum return the loss\n",
    "            \"loss\": train_loss,\n",
    "            \n",
    "            # Optional for batch logging purposes\n",
    "            \"log\": logs,\n",
    "\n",
    "            # To be used for logging at the end of each epoch\n",
    "            \"correct\": correct,\n",
    "            \"total\": total\n",
    "        }\n",
    "\n",
    "        return batch_dictionary\n",
    "\n",
    "    # OPTIONAL FUNCTION - Add custom histogram of the weights\n",
    "    def custom_histogram_adder(self):\n",
    "       \n",
    "        # Iterate through all parameters, log histogram of weights\n",
    "        for name,params in self.named_parameters():\n",
    "            self.logger.experiment.add_histogram(name,params,self.current_epoch)\n",
    "\n",
    "            \n",
    "    # OPTIONAL FUNCTION - Called after every epoch is completed\n",
    "    def training_epoch_end(self,outputs):\n",
    "\n",
    "        # Calculating average loss and accuracy\n",
    "        avg_loss = torch.stack([x['loss'] for x in outputs]).mean()\n",
    "        correct = sum([x[\"correct\"] for  x in outputs])\n",
    "        total = sum([x[\"total\"] for  x in outputs])\n",
    "        \n",
    "        # Log custom scalar values\n",
    "        self.logger.experiment.add_scalar(\"Loss/Train\",\n",
    "                                            avg_loss,\n",
    "                                            self.current_epoch)\n",
    "\n",
    "        self.logger.experiment.add_scalar(\"Accuracy/Train\",\n",
    "                                            correct/total,\n",
    "                                            self.current_epoch) \n",
    "        \n",
    "        # Only log the graph once\n",
    "        if(self.current_epoch == 1):\n",
    "            sampleImg = torch.rand((1,1,28,28))\n",
    "            self.logger.experiment.add_graph(lightningModel(), sampleImg)  # Returns a SummaryWriter object\n",
    "\n",
    "        # Add custom histogram using the custom_histogram_adder() function defined above\n",
    "        self.custom_histogram_adder()\n",
    "        \n",
    "        # creating log dictionary\n",
    "        tensorboard_logs = {'loss': avg_loss,\"Accuracy\": correct/total}\n",
    "\n",
    "        epoch_dictionary = {\n",
    "            # Required\n",
    "            'loss': avg_loss,\n",
    "            'log': tensorboard_logs}\n",
    "\n",
    "        return epoch_dictionary"
   ]
  },
  {
   "cell_type": "markdown",
   "id": "developing-webster",
   "metadata": {},
   "source": [
    "### Using the Lightning Trainer\n",
    "\n",
    "Once the `model` class and all required functions have been implemented, the Lightning trainer takes over execution. \n",
    "\n",
    "The trainer handles just about everything we could want, including:\n",
    "\n",
    "- Automatically enabling/disabling grads\n",
    "- Running the training, validation and test dataloaders\n",
    "- Calling the Callbacks at the appropriate times\n",
    "- Putting batches and computations on the correct devices\n",
    "- Saving, logging and checkpointing the models\n",
    "- Gracefully shutting down after an abort\n",
    "- Even handling distributed execution over [multiple GPUs on multiple machines](https://pytorch-lightning.readthedocs.io/en/latest/trainer.html#trainer-flags)\n",
    "\n",
    "Implementing all this can be done in four lines:"
   ]
  },
  {
   "cell_type": "code",
   "execution_count": 5,
   "id": "raising-acoustic",
   "metadata": {},
   "outputs": [
    {
     "name": "stderr",
     "output_type": "stream",
     "text": [
      "GPU available: False, used: False\n",
      "TPU available: None, using: 0 TPU cores\n",
      "\n",
      "  | Name     | Type       | Params\n",
      "----------------------------------------\n",
      "0 | layer1   | Sequential | 728   \n",
      "1 | layer2   | Sequential | 1.1 K \n",
      "2 | dropout1 | Dropout    | 0     \n",
      "3 | fc1      | Linear     | 4.5 K \n",
      "4 | dropout2 | Dropout    | 0     \n",
      "5 | fc2      | Linear     | 190   \n",
      "----------------------------------------\n",
      "6.6 K     Trainable params\n",
      "0         Non-trainable params\n",
      "6.6 K     Total params\n"
     ]
    },
    {
     "name": "stdout",
     "output_type": "stream",
     "text": [
      "Epoch 2: 100%|██████████| 430/430 [00:25<00:00, 17.08it/s, loss=1.55, v_num=26]\n"
     ]
    },
    {
     "data": {
      "text/plain": [
       "1"
      ]
     },
     "execution_count": 5,
     "metadata": {},
     "output_type": "execute_result"
    }
   ],
   "source": [
    "# To use pytorch-lightning logs, we just need to pass a logger object to the Trainer\n",
    "logger = TensorBoardLogger('tb_logs', name='model_run')\n",
    "\n",
    "# Instantiate the trainer, which is highly customizable: https://pytorch-lightning.readthedocs.io/en/latest/trainer.html\n",
    "Trainer = pl.Trainer(max_epochs = 3, logger = logger)\n",
    "\n",
    "# Instantiate the model\n",
    "model = lightningModel()\n",
    "\n",
    "# Let pytorch-lighting manage execution\n",
    "Trainer.fit(model)"
   ]
  },
  {
   "cell_type": "markdown",
   "id": "liquid-petersburg",
   "metadata": {},
   "source": [
    "### Visualization with Tensorboard\n",
    "\n",
    "Finally, we can visualize all the logging via tensorboard just as we would with standard pytorch:\n"
   ]
  },
  {
   "cell_type": "code",
   "execution_count": 6,
   "id": "million-october",
   "metadata": {},
   "outputs": [
    {
     "name": "stdout",
     "output_type": "stream",
     "text": [
      "The tensorboard extension is already loaded. To reload it, use:\n",
      "  %reload_ext tensorboard\n"
     ]
    },
    {
     "data": {
      "text/plain": [
       "Reusing TensorBoard on port 6006 (pid 15186), started 1:00:07 ago. (Use '!kill 15186' to kill it.)"
      ]
     },
     "metadata": {},
     "output_type": "display_data"
    },
    {
     "data": {
      "text/html": [
       "\n",
       "      <iframe id=\"tensorboard-frame-299cf35f0ad879e7\" width=\"100%\" height=\"800\" frameborder=\"0\">\n",
       "      </iframe>\n",
       "      <script>\n",
       "        (function() {\n",
       "          const frame = document.getElementById(\"tensorboard-frame-299cf35f0ad879e7\");\n",
       "          const url = new URL(\"/\", window.location);\n",
       "          const port = 6006;\n",
       "          if (port) {\n",
       "            url.port = port;\n",
       "          }\n",
       "          frame.src = url;\n",
       "        })();\n",
       "      </script>\n",
       "    "
      ],
      "text/plain": [
       "<IPython.core.display.HTML object>"
      ]
     },
     "metadata": {},
     "output_type": "display_data"
    }
   ],
   "source": [
    "# Load tensorboard - this may look different on your machine\n",
    "%load_ext tensorboard\n",
    "%tensorboard --logdir tb_logs/model_run"
   ]
  },
  {
   "cell_type": "code",
   "execution_count": null,
   "id": "indirect-laser",
   "metadata": {},
   "outputs": [],
   "source": []
  }
 ],
 "metadata": {
  "kernelspec": {
   "display_name": "Python 3",
   "language": "python",
   "name": "python3"
  },
  "language_info": {
   "codemirror_mode": {
    "name": "ipython",
    "version": 3
   },
   "file_extension": ".py",
   "mimetype": "text/x-python",
   "name": "python",
   "nbconvert_exporter": "python",
   "pygments_lexer": "ipython3",
   "version": "3.8.5"
  }
 },
 "nbformat": 4,
 "nbformat_minor": 5
}
