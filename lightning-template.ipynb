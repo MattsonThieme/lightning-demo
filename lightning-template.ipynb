{
 "cells": [
  {
   "cell_type": "code",
   "execution_count": 1,
   "id": "expired-chile",
   "metadata": {},
   "outputs": [],
   "source": [
    "\n",
    "# Code adapted from https://learnopencv.com/getting-started-with-pytorch-lightning/\n",
    "\n",
    "import torch\n",
    "from torch.nn import functional as F\n",
    "from torch.utils.data import DataLoader, random_split\n",
    "from torchvision.datasets import MNIST\n",
    "from torchvision import transforms\n",
    "import pytorch_lightning as pl\n",
    "import os\n"
   ]
  },
  {
   "cell_type": "markdown",
   "id": "editorial-patrol",
   "metadata": {},
   "source": [
    "### Defining the model object\n",
    "\n",
    "Pytorch-lightning will handle everything we need to do, we just need to define the functions.\n"
   ]
  },
  {
   "cell_type": "code",
   "execution_count": 4,
   "id": "gothic-newman",
   "metadata": {},
   "outputs": [
    {
     "name": "stderr",
     "output_type": "stream",
     "text": [
      "GPU available: False, used: False\n",
      "TPU available: None, using: 0 TPU cores\n",
      "\n",
      "  | Name     | Type       | Params\n",
      "----------------------------------------\n",
      "0 | layer1   | Sequential | 728   \n",
      "1 | layer2   | Sequential | 1.1 K \n",
      "2 | dropout1 | Dropout    | 0     \n",
      "3 | fc1      | Linear     | 4.5 K \n",
      "4 | dropout2 | Dropout    | 0     \n",
      "5 | fc2      | Linear     | 190   \n",
      "----------------------------------------\n",
      "6.6 K     Trainable params\n",
      "0         Non-trainable params\n",
      "6.6 K     Total params\n"
     ]
    },
    {
     "name": "stdout",
     "output_type": "stream",
     "text": [
      "Epoch 0:   0%|          | 1/430 [00:00<00:38, 11.08it/s, loss=-0.0996, v_num=7]"
     ]
    },
    {
     "name": "stderr",
     "output_type": "stream",
     "text": [
      "<ipython-input-4-f1db27ad14e5>:49: UserWarning: Implicit dimension choice for softmax has been deprecated. Change the call to include dim=X as an argument.\n",
      "  return F.softmax(self.fc2(x))\n"
     ]
    },
    {
     "name": "stdout",
     "output_type": "stream",
     "text": [
      "Epoch 0:  14%|█▍        | 62/430 [00:03<00:21, 17.00it/s, loss=-0.291, v_num=7]\n"
     ]
    },
    {
     "name": "stderr",
     "output_type": "stream",
     "text": [
      "/Users/mattsonthieme/miniconda3/envs/pytorch/lib/python3.8/site-packages/pytorch_lightning/utilities/distributed.py:50: UserWarning: Detected KeyboardInterrupt, attempting graceful shutdown...\n",
      "  warnings.warn(*args, **kwargs)\n"
     ]
    },
    {
     "data": {
      "text/plain": [
       "1"
      ]
     },
     "execution_count": 4,
     "metadata": {},
     "output_type": "execute_result"
    }
   ],
   "source": [
    "class model(pl.LightningModule):\n",
    "    def __init__(self):\n",
    "        super(model, self).__init__()\n",
    "        self.layer1 = torch.nn.Sequential(\n",
    "            torch.nn.Conv2d(1,28,kernel_size=5),\n",
    "            torch.nn.ReLU(),\n",
    "            torch.nn.MaxPool2d(kernel_size=2))\n",
    "        self.layer2 = torch.nn.Sequential(\n",
    "            torch.nn.Conv2d(28,10,kernel_size=2),\n",
    "            torch.nn.ReLU(),\n",
    "            torch.nn.MaxPool2d(kernel_size=2))\n",
    "        self.dropout1=torch.nn.Dropout(0.25)\n",
    "        self.fc1=torch.nn.Linear(250,18)\n",
    "        self.dropout2=torch.nn.Dropout(0.08)\n",
    "        self.fc2=torch.nn.Linear(18,10)\n",
    "\n",
    " \n",
    "    #This contains the manupulation on data that needs to be done only once such as downloading it\n",
    "    def prepare_data(self):\n",
    "        MNIST(os.getcwd(), train=True, download =True)\n",
    "        MNIST(os.getcwd(), train=False, download =True)\n",
    "    \n",
    "    def train_dataloader(self):\n",
    "        #This is an essential function. Needs to be included in the code\n",
    "        #See here i have set download to false as it is already downloaded in prepare_data\n",
    "        mnist_train=MNIST(os.getcwd(), train=True, download =False,transform=transforms.ToTensor())\n",
    "        \n",
    "        #Dividing into validation and training set\n",
    "        self.train_set, self.val_set= random_split(mnist_train,[55000,5000])\n",
    "        \n",
    "        return DataLoader(self.train_set,batch_size=128)\n",
    "        \n",
    "    def val_dataloader(self):\n",
    "        # OPTIONAL\n",
    "        return DataLoader(self.val_set, batch_size=128)\n",
    "\n",
    "    def test_dataloader(self):\n",
    "        # OPTIONAL\n",
    "        return DataLoader(MNIST(os.getcwd(), train=False, download=False, transform=transforms.ToTensor()), batch_size=128)\n",
    "\n",
    "\n",
    "    def forward(self,x):\n",
    "          x=self.layer1(x)\n",
    "          x=self.layer2(x)\n",
    "          x=self.dropout1(x)\n",
    "          x=torch.relu(self.fc1(x.view(x.size(0), -1)))\n",
    "          x=F.leaky_relu(self.dropout2(x))\n",
    "          \n",
    "          return F.softmax(self.fc2(x))\n",
    "\n",
    "    def configure_optimizers(self):\n",
    "        # Essential fuction\n",
    "        #we are using Adam optimizer for our model\n",
    "        return torch.optim.Adam(self.parameters())\n",
    "\n",
    "    def training_step(self,batch,batch_idx):\n",
    "          \n",
    "          #extracting input and output from the batch\n",
    "          x,labels=batch\n",
    "          \n",
    "          #doing a forward pass\n",
    "          pred=self.forward(x)\n",
    "          \n",
    "          #calculating the loss\n",
    "          loss = F.nll_loss(pred, labels)\n",
    "          \n",
    "          #logs\n",
    "          logs={\"train_loss\": loss}\n",
    "          \n",
    "          output={\n",
    "              #REQUIRED: It ie required for us to return \"loss\"\n",
    "              \"loss\": loss,\n",
    "              #optional for logging purposes\n",
    "              \"log\": logs\n",
    "          }\n",
    "          \n",
    "          return output\n",
    "\n",
    "\n",
    "#abstracts the training, val and test loops\n",
    "\n",
    "#max 40 epochs, full list of arguments: https://pytorch-lightning.readthedocs.io/en/latest/trainer.html\n",
    "myTrainer=pl.Trainer(max_epochs=2)\n",
    "\n",
    "model = model()\n",
    "myTrainer.fit(model)\n",
    "\n"
   ]
  },
  {
   "cell_type": "code",
   "execution_count": null,
   "id": "molecular-berkeley",
   "metadata": {},
   "outputs": [],
   "source": []
  }
 ],
 "metadata": {
  "kernelspec": {
   "display_name": "Python 3",
   "language": "python",
   "name": "python3"
  },
  "language_info": {
   "codemirror_mode": {
    "name": "ipython",
    "version": 3
   },
   "file_extension": ".py",
   "mimetype": "text/x-python",
   "name": "python",
   "nbconvert_exporter": "python",
   "pygments_lexer": "ipython3",
   "version": "3.8.5"
  }
 },
 "nbformat": 4,
 "nbformat_minor": 5
}
